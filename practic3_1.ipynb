{
  "nbformat": 4,
  "nbformat_minor": 0,
  "metadata": {
    "colab": {
      "provenance": [],
      "authorship_tag": "ABX9TyO74FJV73pU6EN/ueqQYfeC",
      "include_colab_link": true
    },
    "kernelspec": {
      "name": "python3",
      "display_name": "Python 3"
    },
    "language_info": {
      "name": "python"
    }
  },
  "cells": [
    {
      "cell_type": "markdown",
      "metadata": {
        "id": "view-in-github",
        "colab_type": "text"
      },
      "source": [
        "<a href=\"https://colab.research.google.com/github/Romauld1990/PDA_SOL/blob/main/practic3_1.ipynb\" target=\"_parent\"><img src=\"https://colab.research.google.com/assets/colab-badge.svg\" alt=\"Open In Colab\"/></a>"
      ]
    },
    {
      "cell_type": "markdown",
      "source": [
        "# ЗАДАНИЕ 1. 01_Symbolic_mathematics_with_Sympy"
      ],
      "metadata": {
        "id": "Uvbq1Ar_pubQ"
      }
    },
    {
      "cell_type": "markdown",
      "metadata": {
        "id": "kJ9JOG_Up0Ld"
      },
      "source": [
        "# Символьная математика с Sympy\n",
        "\n",
        "[Sympy](http://www.sympy.org/en/index.html) описывается как:\n",
        "\n",
        "> \"... Python library for symbolic mathematics.\"\n",
        "\n",
        "Это означает, что `Sympy` можно использовать для:\n",
        "\n",
        "- Работа с символическими выражениями;\n",
        "- Решать символьные уравнения;\n",
        "- Проводить символическое исчисление;\n",
        "- Построение символьной графики.\n",
        "\n",
        "Подробнее о возможностях `Sympy` можно прочитать здесь: http://www.sympy.org/en/index.html.\n",
        "\n",
        "## Работа с символическими выражениями\n",
        "\n",
        "Импортируем библиотеку `Sympy`."
      ]
    },
    {
      "cell_type": "code",
      "execution_count": 1,
      "metadata": {
        "id": "Feyk7wZHp0Le"
      },
      "outputs": [],
      "source": [
        "import sympy as sym"
      ]
    },
    {
      "cell_type": "markdown",
      "metadata": {
        "id": "Mb-T5bwfp0Le"
      },
      "source": [
        "Импорт библиотеки дает доступ к ее командам, используя сокращение `sym`.\n",
        "\n",
        "При  попытке проверки выражения $x - x = 0$, получим ошибку, если предварительно не описать в Python переменную $x$."
      ]
    },
    {
      "cell_type": "markdown",
      "metadata": {
        "id": "O63U5UbTp0Le"
      },
      "source": [
        "Здесь на помощь приходит `Sympy`: мы можем указать Python создать $x$ в качестве символьной переменной:"
      ]
    },
    {
      "cell_type": "code",
      "execution_count": 2,
      "metadata": {
        "id": "7gobr7D4p0Le"
      },
      "outputs": [],
      "source": [
        "x = sym.symbols('x')"
      ]
    },
    {
      "cell_type": "markdown",
      "metadata": {
        "id": "HCyvZkyWp0Le"
      },
      "source": [
        "Теперь мы можем вычислить $x - x$:"
      ]
    },
    {
      "cell_type": "code",
      "execution_count": 3,
      "metadata": {
        "colab": {
          "base_uri": "https://localhost:8080/",
          "height": 38
        },
        "id": "PUVHyzpjp0Le",
        "outputId": "c036b835-c4a8-43f6-8d58-b26f7a483bfe"
      },
      "outputs": [
        {
          "output_type": "execute_result",
          "data": {
            "text/plain": [
              "0"
            ],
            "text/latex": "$\\displaystyle 0$"
          },
          "metadata": {},
          "execution_count": 3
        }
      ],
      "source": [
        "x - x"
      ]
    },
    {
      "cell_type": "markdown",
      "metadata": {
        "id": "5CJQK5MBp0Le"
      },
      "source": [
        "Мы можем создавать выражения и манипулировать ими в Sympy. Давайте, например, проверим:\n",
        "\n",
        "$$(a + b) ^ 2 = а ^ 2 + 2ab + b ^2$$\n",
        "\n",
        "Сначала мы создаем символьные переменные $a, b$:"
      ]
    },
    {
      "cell_type": "code",
      "execution_count": 4,
      "metadata": {
        "id": "BW9NnlTkp0Lf"
      },
      "outputs": [],
      "source": [
        "a, b = sym.symbols('a, b')"
      ]
    },
    {
      "cell_type": "markdown",
      "metadata": {
        "id": "tH8YEWa0p0Lf"
      },
      "source": [
        "Теперь давайте создадим наше выражение:"
      ]
    },
    {
      "cell_type": "code",
      "execution_count": 5,
      "metadata": {
        "colab": {
          "base_uri": "https://localhost:8080/",
          "height": 39
        },
        "id": "7-wd-Gp-p0Lf",
        "outputId": "028bda42-9e7a-4ea3-f286-9f5b044eab0c"
      },
      "outputs": [
        {
          "output_type": "execute_result",
          "data": {
            "text/plain": [
              "(a + b)**2"
            ],
            "text/latex": "$\\displaystyle \\left(a + b\\right)^{2}$"
          },
          "metadata": {},
          "execution_count": 5
        }
      ],
      "source": [
        "expr = (a + b) ** 2\n",
        "expr"
      ]
    },
    {
      "cell_type": "markdown",
      "metadata": {
        "id": "NOcIypl8p0Lf"
      },
      "source": [
        "**Примечание**  в `Sympy` можно использовать LaTeX-разметку, чтобы результат выглядел в более удобно читаемом виде:"
      ]
    },
    {
      "cell_type": "code",
      "execution_count": 6,
      "metadata": {
        "id": "WmGM5Vgdp0Lf"
      },
      "outputs": [],
      "source": [
        "sym.init_printing()"
      ]
    },
    {
      "cell_type": "code",
      "execution_count": 7,
      "metadata": {
        "colab": {
          "base_uri": "https://localhost:8080/",
          "height": 39
        },
        "id": "tUvyaqOjp0Lf",
        "outputId": "124441fa-ce47-4685-cd2e-2f788824d9dc"
      },
      "outputs": [
        {
          "output_type": "execute_result",
          "data": {
            "text/plain": [
              "       2\n",
              "(a + b) "
            ],
            "text/latex": "$\\displaystyle \\left(a + b\\right)^{2}$"
          },
          "metadata": {},
          "execution_count": 7
        }
      ],
      "source": [
        "expr"
      ]
    },
    {
      "cell_type": "markdown",
      "metadata": {
        "id": "M-VvQ6Exp0Lf"
      },
      "source": [
        "Раскроем скобки в выражении:"
      ]
    },
    {
      "cell_type": "code",
      "execution_count": 8,
      "metadata": {
        "colab": {
          "base_uri": "https://localhost:8080/",
          "height": 38
        },
        "id": "NXj90Zijp0Lf",
        "outputId": "514d38b7-4298-4909-8146-7d9e934c383c"
      },
      "outputs": [
        {
          "output_type": "execute_result",
          "data": {
            "text/plain": [
              " 2            2\n",
              "a  + 2⋅a⋅b + b "
            ],
            "text/latex": "$\\displaystyle a^{2} + 2 a b + b^{2}$"
          },
          "metadata": {},
          "execution_count": 8
        }
      ],
      "source": [
        "expr.expand()"
      ]
    },
    {
      "cell_type": "markdown",
      "metadata": {
        "id": "sIJ5kfWLp0Lf"
      },
      "source": [
        "Обратите внимание, что  в `Sympy` можно создать код LaTeX для дальнейшего применения:"
      ]
    },
    {
      "cell_type": "code",
      "execution_count": 9,
      "metadata": {
        "colab": {
          "base_uri": "https://localhost:8080/",
          "height": 36
        },
        "id": "Pi6IzuHlp0Lf",
        "outputId": "2559c68e-b4b3-4c13-9912-e28aab96df10"
      },
      "outputs": [
        {
          "output_type": "execute_result",
          "data": {
            "text/plain": [
              "'a^{2} + 2 a b + b^{2}'"
            ],
            "application/vnd.google.colaboratory.intrinsic+json": {
              "type": "string"
            }
          },
          "metadata": {},
          "execution_count": 9
        }
      ],
      "source": [
        "sym.latex(expr.expand())"
      ]
    },
    {
      "cell_type": "markdown",
      "metadata": {
        "id": "An4awKLQp0Lf"
      },
      "source": [
        "---\n",
        "**УПРАЖНЕНИЕ 1** Используйте Sympy, чтобы проверить следующие выражения:\n",
        "\n",
        "- $(a - b) ^ 2 = a ^ 2 - 2 a b + b^2$\n",
        "- $a ^ 2 - b ^ 2 = (a - b) (a + b)$ (вместо использования `expand` попробуйте `factor`)"
      ]
    },
    {
      "cell_type": "code",
      "source": [
        "a, b = sym.symbols('a, b')\n",
        "expr = (a - b) ** 2\n",
        "expr"
      ],
      "metadata": {
        "colab": {
          "base_uri": "https://localhost:8080/",
          "height": 39
        },
        "id": "hOHNd4fBs5dg",
        "outputId": "08268c32-8055-4aa6-9fca-aea355e692b1"
      },
      "execution_count": 10,
      "outputs": [
        {
          "output_type": "execute_result",
          "data": {
            "text/plain": [
              "       2\n",
              "(a - b) "
            ],
            "text/latex": "$\\displaystyle \\left(a - b\\right)^{2}$"
          },
          "metadata": {},
          "execution_count": 10
        }
      ]
    },
    {
      "cell_type": "code",
      "source": [
        "expr.expand()"
      ],
      "metadata": {
        "colab": {
          "base_uri": "https://localhost:8080/",
          "height": 38
        },
        "id": "t_DfjDqQzY5s",
        "outputId": "9dff02b1-7d28-4f23-d72e-3350685e8f71"
      },
      "execution_count": 11,
      "outputs": [
        {
          "output_type": "execute_result",
          "data": {
            "text/plain": [
              " 2            2\n",
              "a  - 2⋅a⋅b + b "
            ],
            "text/latex": "$\\displaystyle a^{2} - 2 a b + b^{2}$"
          },
          "metadata": {},
          "execution_count": 11
        }
      ]
    },
    {
      "cell_type": "code",
      "source": [
        "sym.latex(expr.expand())"
      ],
      "metadata": {
        "colab": {
          "base_uri": "https://localhost:8080/",
          "height": 36
        },
        "id": "BlgbtH5PzcA5",
        "outputId": "fcab9d8c-17e4-4ef5-ba3c-f2bdf49495ca"
      },
      "execution_count": 12,
      "outputs": [
        {
          "output_type": "execute_result",
          "data": {
            "text/plain": [
              "'a^{2} - 2 a b + b^{2}'"
            ],
            "application/vnd.google.colaboratory.intrinsic+json": {
              "type": "string"
            }
          },
          "metadata": {},
          "execution_count": 12
        }
      ]
    },
    {
      "cell_type": "code",
      "source": [
        "a, b = sym.symbols('a, b')\n",
        "expr = a ** 2 - b ** 2\n",
        "expr"
      ],
      "metadata": {
        "colab": {
          "base_uri": "https://localhost:8080/",
          "height": 38
        },
        "id": "LJfWtKZLzmui",
        "outputId": "b5e9dd64-f336-4c73-d478-f4f559937aaa"
      },
      "execution_count": 14,
      "outputs": [
        {
          "output_type": "execute_result",
          "data": {
            "text/plain": [
              " 2    2\n",
              "a  - b "
            ],
            "text/latex": "$\\displaystyle a^{2} - b^{2}$"
          },
          "metadata": {},
          "execution_count": 14
        }
      ]
    },
    {
      "cell_type": "code",
      "source": [
        "sym.init_printing()\n",
        "expr.factor()"
      ],
      "metadata": {
        "colab": {
          "base_uri": "https://localhost:8080/",
          "height": 38
        },
        "id": "wvfLOysBzs7J",
        "outputId": "291a8b88-ed1a-448c-a14a-f4757a08cb3d"
      },
      "execution_count": 16,
      "outputs": [
        {
          "output_type": "execute_result",
          "data": {
            "text/plain": [
              "(a - b)⋅(a + b)"
            ],
            "text/latex": "$\\displaystyle \\left(a - b\\right) \\left(a + b\\right)$"
          },
          "metadata": {},
          "execution_count": 16
        }
      ]
    },
    {
      "cell_type": "markdown",
      "metadata": {
        "id": "_1s12ORXp0Lg"
      },
      "source": [
        "## Решение символьных уравнений"
      ]
    },
    {
      "cell_type": "markdown",
      "metadata": {
        "id": "qjtU3C4Ap0Lg"
      },
      "source": [
        "Мы можем использовать `Sympy` для решения символьных выражений. Например, найдем неизвестное $x$ квадратного уравнения:\n",
        "$$a x ^ 2 + b x + c = 0$$"
      ]
    },
    {
      "cell_type": "code",
      "execution_count": 17,
      "metadata": {
        "id": "5HwhK8Rvp0Lg"
      },
      "outputs": [],
      "source": [
        "a, b, c, x = sym.symbols('a, b, c, x')"
      ]
    },
    {
      "cell_type": "markdown",
      "metadata": {
        "id": "0Ktktskep0Lg"
      },
      "source": [
        "Команда в `Sympy` для решения уравнений — `solveset`. Первый аргумент — это выражение, для которого будет найден корень. Второй аргумент — это значение, которое мы ищем."
      ]
    },
    {
      "cell_type": "code",
      "execution_count": 18,
      "metadata": {
        "id": "RqPQsyZwp0Lg",
        "colab": {
          "base_uri": "https://localhost:8080/",
          "height": 68
        },
        "outputId": "dd04d368-5aab-4a34-8592-f7e31878c479"
      },
      "outputs": [
        {
          "output_type": "execute_result",
          "data": {
            "text/plain": [
              "⎧           _____________             _____________⎫\n",
              "⎪          ╱           2             ╱           2 ⎪\n",
              "⎨   b    ╲╱  -4⋅a⋅c + b       b    ╲╱  -4⋅a⋅c + b  ⎬\n",
              "⎪- ─── - ────────────────, - ─── + ────────────────⎪\n",
              "⎩  2⋅a         2⋅a           2⋅a         2⋅a       ⎭"
            ],
            "text/latex": "$\\displaystyle \\left\\{- \\frac{b}{2 a} - \\frac{\\sqrt{- 4 a c + b^{2}}}{2 a}, - \\frac{b}{2 a} + \\frac{\\sqrt{- 4 a c + b^{2}}}{2 a}\\right\\}$"
          },
          "metadata": {},
          "execution_count": 18
        }
      ],
      "source": [
        "sym.solveset(a * x ** 2 + b * x + c, x)"
      ]
    },
    {
      "cell_type": "markdown",
      "metadata": {
        "id": "6eFiR7nBp0Lg"
      },
      "source": [
        "---\n",
        "** УПРАЖНЕНИЕ 2** Используйте Sympy, чтобы найти решения обобщенного кубического уравнения:\n",
        "\n",
        "$$a x ^ 3 + b x ^ 2 + c  x + d = 0$$\n",
        "\n",
        "---"
      ]
    },
    {
      "cell_type": "code",
      "source": [
        "a, b, c, x, d = sym.symbols('a, b, c, x, d')\n",
        "sym.solveset(a * x ** 3 + b * x **2 + c * x +d, x)"
      ],
      "metadata": {
        "colab": {
          "base_uri": "https://localhost:8080/",
          "height": 129
        },
        "id": "omKiJQDGz5jp",
        "outputId": "aeded9d7-565f-4b39-d023-239b2d732507"
      },
      "execution_count": 19,
      "outputs": [
        {
          "output_type": "execute_result",
          "data": {
            "text/plain": [
              "⎧                                                                             \n",
              "⎪                                                                             \n",
              "⎪                                                                             \n",
              "⎪                                                                             \n",
              "⎪                                                                             \n",
              "⎪                                                                             \n",
              "⎪                                                 2                           \n",
              "⎪                                          3⋅c   b                            \n",
              "⎪                                        - ─── + ──                           \n",
              "⎪                                           a     2                           \n",
              "⎪                                                a                            \n",
              "⎨- ───────────────────────────────────────────────────────────────────────────\n",
              "⎪               ______________________________________________________________\n",
              "⎪              ╱        ____________________________________________          \n",
              "⎪             ╱        ╱                 3                        2           \n",
              "⎪            ╱        ╱      ⎛         2⎞    ⎛                  3⎞            \n",
              "⎪           ╱        ╱       ⎜  3⋅c   b ⎟    ⎜27⋅d   9⋅b⋅c   2⋅b ⎟            \n",
              "⎪          ╱        ╱    - 4⋅⎜- ─── + ──⎟  + ⎜──── - ───── + ────⎟            \n",
              "⎪         ╱        ╱         ⎜   a     2⎟    ⎜ a        2      3 ⎟            \n",
              "⎪        ╱       ╲╱          ⎝        a ⎠    ⎝         a      a  ⎠     27⋅d   \n",
              "⎪  3⋅   ╱        ─────────────────────────────────────────────────── + ──── - \n",
              "⎪    3 ╱                                  2                            2⋅a    \n",
              "⎩    ╲╱                                                                       \n",
              "\n",
              "                         _____________________________________________________\n",
              "                        ╱        ____________________________________________ \n",
              "                       ╱        ╱                 3                        2  \n",
              "                      ╱        ╱      ⎛         2⎞    ⎛                  3⎞   \n",
              "                     ╱        ╱       ⎜  3⋅c   b ⎟    ⎜27⋅d   9⋅b⋅c   2⋅b ⎟   \n",
              "                    ╱        ╱    - 4⋅⎜- ─── + ──⎟  + ⎜──── - ───── + ────⎟   \n",
              "                   ╱        ╱         ⎜   a     2⎟    ⎜ a        2      3 ⎟   \n",
              "                  ╱       ╲╱          ⎝        a ⎠    ⎝         a      a  ⎠   \n",
              "                 ╱        ─────────────────────────────────────────────────── \n",
              "              3 ╱                                  2                          \n",
              "              ╲╱                                                              \n",
              "─────────── - ────────────────────────────────────────────────────────────────\n",
              "___________                                            3                      \n",
              "                                                                              \n",
              "                                                                              \n",
              "                                                                              \n",
              "                                                                              \n",
              "                                                                              \n",
              "         3                                                                    \n",
              "9⋅b⋅c   b                                                                     \n",
              "───── + ──                                                                    \n",
              "    2    3                                                                    \n",
              " 2⋅a    a                                                                     \n",
              "\n",
              "____________________                                                          \n",
              "                                                                              \n",
              "                                                                              \n",
              "                                                                              \n",
              "                                                                              \n",
              "                                                                              \n",
              "                  3                                                           \n",
              "  27⋅d   9⋅b⋅c   b                                                           3\n",
              "+ ──── - ───── + ──                                                        - ─\n",
              "  2⋅a        2    3                                                           \n",
              "          2⋅a    a      b                                                     \n",
              "──────────────────── - ───, - ────────────────────────────────────────────────\n",
              "                       3⋅a                              ______________________\n",
              "                                                       ╱        ______________\n",
              "                                                      ╱        ╱              \n",
              "                                                     ╱        ╱      ⎛        \n",
              "                                                    ╱        ╱       ⎜  3⋅c   \n",
              "                                                   ╱        ╱    - 4⋅⎜- ─── + \n",
              "                                                  ╱        ╱         ⎜   a    \n",
              "                                ⎛  1   √3⋅ⅈ⎞     ╱       ╲╱          ⎝        \n",
              "                              3⋅⎜- ─ - ────⎟⋅   ╱        ─────────────────────\n",
              "                                ⎝  2    2  ⎠ 3 ╱                              \n",
              "                                             ╲╱                               \n",
              "\n",
              "                                                                              \n",
              "                                                                             ╱\n",
              "                                                                            ╱ \n",
              "                                                                           ╱  \n",
              "                                                                          ╱   \n",
              "                                                                         ╱    \n",
              "      2                                                                 ╱     \n",
              "⋅c   b                                                ⎛  1   √3⋅ⅈ⎞     ╱      \n",
              "── + ──                                               ⎜- ─ - ────⎟⋅   ╱       \n",
              "a     2                                               ⎝  2    2  ⎠ 3 ╱        \n",
              "     a                                                             ╲╱         \n",
              "─────────────────────────────────────────────────── - ────────────────────────\n",
              "___________________________________________________                           \n",
              "______________________________                                                \n",
              "   3                        2                                                 \n",
              " 2⎞    ⎛                  3⎞                                                  \n",
              "b ⎟    ⎜27⋅d   9⋅b⋅c   2⋅b ⎟                                                  \n",
              "──⎟  + ⎜──── - ───── + ────⎟                                                  \n",
              " 2⎟    ⎜ a        2      3 ⎟                     3                            \n",
              "a ⎠    ⎝         a      a  ⎠     27⋅d   9⋅b⋅c   b                             \n",
              "────────────────────────────── + ──── - ───── + ──                            \n",
              "    2                            2⋅a        2    3                            \n",
              "                                         2⋅a    a                             \n",
              "\n",
              "_________________________________________________________________________     \n",
              "        ____________________________________________                          \n",
              "       ╱                 3                        2                           \n",
              "      ╱      ⎛         2⎞    ⎛                  3⎞                            \n",
              "     ╱       ⎜  3⋅c   b ⎟    ⎜27⋅d   9⋅b⋅c   2⋅b ⎟                            \n",
              "    ╱    - 4⋅⎜- ─── + ──⎟  + ⎜──── - ───── + ────⎟                            \n",
              "   ╱         ⎜   a     2⎟    ⎜ a        2      3 ⎟                     3      \n",
              " ╲╱          ⎝        a ⎠    ⎝         a      a  ⎠     27⋅d   9⋅b⋅c   b       \n",
              " ─────────────────────────────────────────────────── + ──── - ───── + ──      \n",
              "                          2                            2⋅a        2    3      \n",
              "                                                               2⋅a    a      b\n",
              "───────────────────────────────────────────────────────────────────────── - ──\n",
              "                        3                                                   3⋅\n",
              "                                                                              \n",
              "                                                                              \n",
              "                                                                              \n",
              "                                                                              \n",
              "                                                                              \n",
              "                                                                              \n",
              "                                                                              \n",
              "                                                                              \n",
              "                                                                              \n",
              "                                                                              \n",
              "\n",
              "                                                                              \n",
              "                                                                              \n",
              "                                                                              \n",
              "                                                                              \n",
              "                                                                              \n",
              "                                                                              \n",
              "                                                           2                  \n",
              "                                                    3⋅c   b                   \n",
              "                                                  - ─── + ──                  \n",
              "                                                     a     2                  \n",
              "                                                          a                   \n",
              "─, - ─────────────────────────────────────────────────────────────────────────\n",
              "a                              _______________________________________________\n",
              "                              ╱        _______________________________________\n",
              "                             ╱        ╱                 3                     \n",
              "                            ╱        ╱      ⎛         2⎞    ⎛                 \n",
              "                           ╱        ╱       ⎜  3⋅c   b ⎟    ⎜27⋅d   9⋅b⋅c   2⋅\n",
              "                          ╱        ╱    - 4⋅⎜- ─── + ──⎟  + ⎜──── - ───── + ──\n",
              "                         ╱        ╱         ⎜   a     2⎟    ⎜ a        2      \n",
              "       ⎛  1   √3⋅ⅈ⎞     ╱       ╲╱          ⎝        a ⎠    ⎝         a      a\n",
              "     3⋅⎜- ─ + ────⎟⋅   ╱        ──────────────────────────────────────────────\n",
              "       ⎝  2    2  ⎠ 3 ╱                                  2                    \n",
              "                    ╲╱                                                        \n",
              "\n",
              "                                                     _________________________\n",
              "                                                    ╱        _________________\n",
              "                                                   ╱        ╱                 \n",
              "                                                  ╱        ╱      ⎛         2⎞\n",
              "                                                 ╱        ╱       ⎜  3⋅c   b ⎟\n",
              "                                                ╱        ╱    - 4⋅⎜- ─── + ──⎟\n",
              "                                               ╱        ╱         ⎜   a     2⎟\n",
              "                             ⎛  1   √3⋅ⅈ⎞     ╱       ╲╱          ⎝        a ⎠\n",
              "                             ⎜- ─ + ────⎟⋅   ╱        ────────────────────────\n",
              "                             ⎝  2    2  ⎠ 3 ╱                                 \n",
              "                                          ╲╱                                  \n",
              "────────────────────────── - ─────────────────────────────────────────────────\n",
              "__________________________                                                   3\n",
              "_____                                                                         \n",
              "   2                                                                          \n",
              " 3⎞                                                                           \n",
              "b ⎟                                                                           \n",
              "──⎟                                                                           \n",
              "3 ⎟                     3                                                     \n",
              "  ⎠     27⋅d   9⋅b⋅c   b                                                      \n",
              "───── + ──── - ───── + ──                                                     \n",
              "        2⋅a        2    3                                                     \n",
              "                2⋅a    a                                                      \n",
              "\n",
              "________________________________________________      ⎫\n",
              "___________________________                           ⎪\n",
              "3                        2                            ⎪\n",
              "    ⎛                  3⎞                             ⎪\n",
              "    ⎜27⋅d   9⋅b⋅c   2⋅b ⎟                             ⎪\n",
              "  + ⎜──── - ───── + ────⎟                             ⎪\n",
              "    ⎜ a        2      3 ⎟                     3       ⎪\n",
              "    ⎝         a      a  ⎠     27⋅d   9⋅b⋅c   b        ⎪\n",
              "─────────────────────────── + ──── - ───── + ──       ⎪\n",
              " 2                            2⋅a        2    3       ⎪\n",
              "                                      2⋅a    a      b ⎪\n",
              "──────────────────────────────────────────────── - ───⎬\n",
              "                                                   3⋅a⎪\n",
              "                                                      ⎪\n",
              "                                                      ⎪\n",
              "                                                      ⎪\n",
              "                                                      ⎪\n",
              "                                                      ⎪\n",
              "                                                      ⎪\n",
              "                                                      ⎪\n",
              "                                                      ⎪\n",
              "                                                      ⎪\n",
              "                                                      ⎭"
            ],
            "text/latex": "$\\displaystyle \\left\\{- \\frac{- \\frac{3 c}{a} + \\frac{b^{2}}{a^{2}}}{3 \\sqrt[3]{\\frac{\\sqrt{- 4 \\left(- \\frac{3 c}{a} + \\frac{b^{2}}{a^{2}}\\right)^{3} + \\left(\\frac{27 d}{a} - \\frac{9 b c}{a^{2}} + \\frac{2 b^{3}}{a^{3}}\\right)^{2}}}{2} + \\frac{27 d}{2 a} - \\frac{9 b c}{2 a^{2}} + \\frac{b^{3}}{a^{3}}}} - \\frac{\\sqrt[3]{\\frac{\\sqrt{- 4 \\left(- \\frac{3 c}{a} + \\frac{b^{2}}{a^{2}}\\right)^{3} + \\left(\\frac{27 d}{a} - \\frac{9 b c}{a^{2}} + \\frac{2 b^{3}}{a^{3}}\\right)^{2}}}{2} + \\frac{27 d}{2 a} - \\frac{9 b c}{2 a^{2}} + \\frac{b^{3}}{a^{3}}}}{3} - \\frac{b}{3 a}, - \\frac{- \\frac{3 c}{a} + \\frac{b^{2}}{a^{2}}}{3 \\left(- \\frac{1}{2} - \\frac{\\sqrt{3} i}{2}\\right) \\sqrt[3]{\\frac{\\sqrt{- 4 \\left(- \\frac{3 c}{a} + \\frac{b^{2}}{a^{2}}\\right)^{3} + \\left(\\frac{27 d}{a} - \\frac{9 b c}{a^{2}} + \\frac{2 b^{3}}{a^{3}}\\right)^{2}}}{2} + \\frac{27 d}{2 a} - \\frac{9 b c}{2 a^{2}} + \\frac{b^{3}}{a^{3}}}} - \\frac{\\left(- \\frac{1}{2} - \\frac{\\sqrt{3} i}{2}\\right) \\sqrt[3]{\\frac{\\sqrt{- 4 \\left(- \\frac{3 c}{a} + \\frac{b^{2}}{a^{2}}\\right)^{3} + \\left(\\frac{27 d}{a} - \\frac{9 b c}{a^{2}} + \\frac{2 b^{3}}{a^{3}}\\right)^{2}}}{2} + \\frac{27 d}{2 a} - \\frac{9 b c}{2 a^{2}} + \\frac{b^{3}}{a^{3}}}}{3} - \\frac{b}{3 a}, - \\frac{- \\frac{3 c}{a} + \\frac{b^{2}}{a^{2}}}{3 \\left(- \\frac{1}{2} + \\frac{\\sqrt{3} i}{2}\\right) \\sqrt[3]{\\frac{\\sqrt{- 4 \\left(- \\frac{3 c}{a} + \\frac{b^{2}}{a^{2}}\\right)^{3} + \\left(\\frac{27 d}{a} - \\frac{9 b c}{a^{2}} + \\frac{2 b^{3}}{a^{3}}\\right)^{2}}}{2} + \\frac{27 d}{2 a} - \\frac{9 b c}{2 a^{2}} + \\frac{b^{3}}{a^{3}}}} - \\frac{\\left(- \\frac{1}{2} + \\frac{\\sqrt{3} i}{2}\\right) \\sqrt[3]{\\frac{\\sqrt{- 4 \\left(- \\frac{3 c}{a} + \\frac{b^{2}}{a^{2}}\\right)^{3} + \\left(\\frac{27 d}{a} - \\frac{9 b c}{a^{2}} + \\frac{2 b^{3}}{a^{3}}\\right)^{2}}}{2} + \\frac{27 d}{2 a} - \\frac{9 b c}{2 a^{2}} + \\frac{b^{3}}{a^{3}}}}{3} - \\frac{b}{3 a}\\right\\}$"
          },
          "metadata": {},
          "execution_count": 19
        }
      ]
    },
    {
      "cell_type": "markdown",
      "metadata": {
        "id": "WHOzDwLLp0Lg"
      },
      "source": [
        "В `solveset` можно передать больше аргументов, например, чтобы ограничить пространство решений. Давайте посмотрим, что представляет собой решение следующей задачи. $\\mathbb{R}$:\n",
        "\n",
        "$$x^2=-1$$"
      ]
    },
    {
      "cell_type": "code",
      "execution_count": 20,
      "metadata": {
        "id": "iFLOBbkEp0Lg",
        "colab": {
          "base_uri": "https://localhost:8080/",
          "height": 38
        },
        "outputId": "6321dfde-0ca4-4f5c-bec5-b5d2b77f66e2"
      },
      "outputs": [
        {
          "output_type": "execute_result",
          "data": {
            "text/plain": [
              "∅"
            ],
            "text/latex": "$\\displaystyle \\emptyset$"
          },
          "metadata": {},
          "execution_count": 20
        }
      ],
      "source": [
        "sym.solveset(x ** 2 + 1, x, domain=sym.S.Reals)"
      ]
    },
    {
      "cell_type": "markdown",
      "metadata": {
        "id": "Vj5tWQvup0Lg"
      },
      "source": [
        "---\n",
        "** УПРАЖНЕНИЕ 3** Используйте Sympy, чтобы найти решения следующих уравнений:\n",
        "\n",
        "- $x ^ 2 == 2$ in $\\mathbb{N}$;\n",
        "- $x ^ 3 + 2 x = 0$ in $\\mathbb{R}$.\n",
        "\n",
        "---"
      ]
    },
    {
      "cell_type": "code",
      "source": [
        "sym.solveset(x ** 2 - 2, x, domain=sym.S.Reals)"
      ],
      "metadata": {
        "colab": {
          "base_uri": "https://localhost:8080/",
          "height": 47
        },
        "id": "jWrSYCgiz_eC",
        "outputId": "b8630315-70e4-41bd-e9f0-8be24f8bb1a8"
      },
      "execution_count": 21,
      "outputs": [
        {
          "output_type": "execute_result",
          "data": {
            "text/plain": [
              "{-√2, √2}"
            ],
            "text/latex": "$\\displaystyle \\left\\{- \\sqrt{2}, \\sqrt{2}\\right\\}$"
          },
          "metadata": {},
          "execution_count": 21
        }
      ]
    },
    {
      "cell_type": "code",
      "source": [
        "sym.solveset(x ** 3 + 2 * x, x, domain=sym.S.Reals)"
      ],
      "metadata": {
        "colab": {
          "base_uri": "https://localhost:8080/",
          "height": 38
        },
        "id": "wpObDY4k0DTG",
        "outputId": "b023a67e-1d35-4255-831e-845fc1a32b04"
      },
      "execution_count": 22,
      "outputs": [
        {
          "output_type": "execute_result",
          "data": {
            "text/plain": [
              "{0}"
            ],
            "text/latex": "$\\displaystyle \\left\\{0\\right\\}$"
          },
          "metadata": {},
          "execution_count": 22
        }
      ]
    },
    {
      "cell_type": "markdown",
      "metadata": {
        "id": "6mrbMPn1p0Lg"
      },
      "source": [
        "## Символьное исчисление\n",
        "\n",
        "`Sympy` также используют для вычисления пределов. Давайте посчитаем:\n",
        "\n",
        "$$\\lim_{x\\to 0^+}\\frac{1}{x}$$"
      ]
    },
    {
      "cell_type": "code",
      "execution_count": 23,
      "metadata": {
        "id": "Qeax8T8Yp0Lh",
        "colab": {
          "base_uri": "https://localhost:8080/",
          "height": 38
        },
        "outputId": "86817723-e873-4726-e92e-8224828a8f1d"
      },
      "outputs": [
        {
          "output_type": "execute_result",
          "data": {
            "text/plain": [
              "∞"
            ],
            "text/latex": "$\\displaystyle \\infty$"
          },
          "metadata": {},
          "execution_count": 23
        }
      ],
      "source": [
        "sym.limit(1/x, x, 0, dir=\"+\")"
      ]
    },
    {
      "cell_type": "markdown",
      "metadata": {
        "id": "S01WtsJSp0Lh"
      },
      "source": [
        "---\n",
        "**УПРАЖНЕНИЕ 4** Рассчитайте следующие пределы:\n",
        "\n",
        "1. $\\lim_{x\\to 0^-}\\frac{1}{x}$\n",
        "2.  $\\lim_{x\\to 0}\\frac{1}{x^2}$\n",
        "\n",
        "---"
      ]
    },
    {
      "cell_type": "code",
      "source": [
        "sym.limit(1/x, x, 0, dir=\"-\")"
      ],
      "metadata": {
        "colab": {
          "base_uri": "https://localhost:8080/",
          "height": 38
        },
        "id": "09Ykn34b0hI5",
        "outputId": "d5b87da1-1bb9-434a-9a37-b6d1ca47c204"
      },
      "execution_count": 25,
      "outputs": [
        {
          "output_type": "execute_result",
          "data": {
            "text/plain": [
              "-∞"
            ],
            "text/latex": "$\\displaystyle -\\infty$"
          },
          "metadata": {},
          "execution_count": 25
        }
      ]
    },
    {
      "cell_type": "code",
      "source": [
        "sym.limit(1/(x **2), x, 0)"
      ],
      "metadata": {
        "colab": {
          "base_uri": "https://localhost:8080/",
          "height": 38
        },
        "id": "lQU25ZcV5Rei",
        "outputId": "206a884e-60e9-49c9-db96-ff29d0e023f1"
      },
      "execution_count": 26,
      "outputs": [
        {
          "output_type": "execute_result",
          "data": {
            "text/plain": [
              "∞"
            ],
            "text/latex": "$\\displaystyle \\infty$"
          },
          "metadata": {},
          "execution_count": 26
        }
      ]
    },
    {
      "cell_type": "markdown",
      "metadata": {
        "id": "pOYnUC3jp0Lh"
      },
      "source": [
        "Можно использовать `Sympy` для дифференцирования и интегрирования.Продифференцируем следующее выражения:\n",
        "\n",
        "\n",
        "$$x ^ 2 - \\cos(x)$$"
      ]
    },
    {
      "cell_type": "code",
      "execution_count": 24,
      "metadata": {
        "id": "TAO6F8w-p0Lh",
        "colab": {
          "base_uri": "https://localhost:8080/",
          "height": 38
        },
        "outputId": "ebbf9bb5-73bb-4b20-e595-056b81276bbb"
      },
      "outputs": [
        {
          "output_type": "execute_result",
          "data": {
            "text/plain": [
              "2⋅x + sin(x)"
            ],
            "text/latex": "$\\displaystyle 2 x + \\sin{\\left(x \\right)}$"
          },
          "metadata": {},
          "execution_count": 24
        }
      ],
      "source": [
        "sym.diff(x ** 2 - sym.cos(x), x)"
      ]
    },
    {
      "cell_type": "markdown",
      "metadata": {
        "id": "MBdkODtDp0Lh"
      },
      "source": [
        "Аналогично можно интегрировать:"
      ]
    },
    {
      "cell_type": "code",
      "execution_count": 27,
      "metadata": {
        "id": "bEtr1gGyp0Lh",
        "colab": {
          "base_uri": "https://localhost:8080/",
          "height": 54
        },
        "outputId": "504d412e-1a34-4968-fa71-d350b78e4101"
      },
      "outputs": [
        {
          "output_type": "execute_result",
          "data": {
            "text/plain": [
              " 3         \n",
              "x          \n",
              "── - sin(x)\n",
              "3          "
            ],
            "text/latex": "$\\displaystyle \\frac{x^{3}}{3} - \\sin{\\left(x \\right)}$"
          },
          "metadata": {},
          "execution_count": 27
        }
      ],
      "source": [
        "sym.integrate(x ** 2 - sym.cos(x), x)"
      ]
    },
    {
      "cell_type": "markdown",
      "metadata": {
        "id": "9VYJTb9ap0Lh"
      },
      "source": [
        "Включена возможность расчета определенных интегралов:"
      ]
    },
    {
      "cell_type": "code",
      "execution_count": 28,
      "metadata": {
        "id": "bSTNwufLp0Lj",
        "colab": {
          "base_uri": "https://localhost:8080/",
          "height": 51
        },
        "outputId": "750d0271-29be-403a-85fc-93b2b62d789c"
      },
      "outputs": [
        {
          "output_type": "execute_result",
          "data": {
            "text/plain": [
              "125/3 - sin(5)"
            ],
            "text/latex": "$\\displaystyle \\frac{125}{3} - \\sin{\\left(5 \\right)}$"
          },
          "metadata": {},
          "execution_count": 28
        }
      ],
      "source": [
        "sym.integrate(x ** 2 - sym.cos(x), (x, 0, 5))"
      ]
    },
    {
      "cell_type": "markdown",
      "metadata": {
        "id": "gbE6aSRap0Lj"
      },
      "source": [
        "---\n",
        "\n",
        "**УПРАЖНЕНИЕ 5** Используйте Sympy, чтобы рассчитать следующие выражения:\n",
        "\n",
        "1. $\\frac{d\\sin(x ^2)}{dx}$\n",
        "2. $\\frac{d(x ^2 + xy - \\ln(y))}{dy}$\n",
        "3. $\\int e^x \\cos(x)\\;dx$\n",
        "4. $\\int_0^5 e^{2x}\\;dx$"
      ]
    },
    {
      "cell_type": "code",
      "source": [
        "sym.diff(sym.sin(x**2)/x, x)"
      ],
      "metadata": {
        "colab": {
          "base_uri": "https://localhost:8080/",
          "height": 56
        },
        "id": "hMUzK1B-5YM_",
        "outputId": "b1e71a62-6dde-4bc0-8f29-02087c56acf8"
      },
      "execution_count": 29,
      "outputs": [
        {
          "output_type": "execute_result",
          "data": {
            "text/plain": [
              "               ⎛ 2⎞\n",
              "     ⎛ 2⎞   sin⎝x ⎠\n",
              "2⋅cos⎝x ⎠ - ───────\n",
              "                2  \n",
              "               x   "
            ],
            "text/latex": "$\\displaystyle 2 \\cos{\\left(x^{2} \\right)} - \\frac{\\sin{\\left(x^{2} \\right)}}{x^{2}}$"
          },
          "metadata": {},
          "execution_count": 29
        }
      ]
    },
    {
      "cell_type": "code",
      "source": [
        "y = sym.symbols('y')\n",
        "\n",
        "sym.diff(x**2 + x*y - sym.ln(y), y)"
      ],
      "metadata": {
        "colab": {
          "base_uri": "https://localhost:8080/",
          "height": 54
        },
        "id": "k0sKLM815apf",
        "outputId": "15cc654b-f699-4445-cc9b-5ef22c21359f"
      },
      "execution_count": 30,
      "outputs": [
        {
          "output_type": "execute_result",
          "data": {
            "text/plain": [
              "    1\n",
              "x - ─\n",
              "    y"
            ],
            "text/latex": "$\\displaystyle x - \\frac{1}{y}$"
          },
          "metadata": {},
          "execution_count": 30
        }
      ]
    },
    {
      "cell_type": "code",
      "source": [
        "e = sym.symbols('e')\n",
        "sym.integrate(sym.exp(x)* sym.cos(x), x)"
      ],
      "metadata": {
        "colab": {
          "base_uri": "https://localhost:8080/",
          "height": 53
        },
        "id": "D29uwCIo5cuv",
        "outputId": "1cfe6ad7-2ff2-42e2-de48-ea5d064ae533"
      },
      "execution_count": 31,
      "outputs": [
        {
          "output_type": "execute_result",
          "data": {
            "text/plain": [
              " x           x       \n",
              "ℯ ⋅sin(x)   ℯ ⋅cos(x)\n",
              "───────── + ─────────\n",
              "    2           2    "
            ],
            "text/latex": "$\\displaystyle \\frac{e^{x} \\sin{\\left(x \\right)}}{2} + \\frac{e^{x} \\cos{\\left(x \\right)}}{2}$"
          },
          "metadata": {},
          "execution_count": 31
        }
      ]
    },
    {
      "cell_type": "code",
      "source": [
        "sym.integrate(sym.exp(2*x), (x, 0, 5))"
      ],
      "metadata": {
        "colab": {
          "base_uri": "https://localhost:8080/",
          "height": 54
        },
        "id": "sd8lzRKv5fTQ",
        "outputId": "86218e30-3b8e-45a8-d9d7-c1039435eeab"
      },
      "execution_count": 32,
      "outputs": [
        {
          "output_type": "execute_result",
          "data": {
            "text/plain": [
              "       10\n",
              "  1   ℯ  \n",
              "- ─ + ───\n",
              "  2    2 "
            ],
            "text/latex": "$\\displaystyle - \\frac{1}{2} + \\frac{e^{10}}{2}$"
          },
          "metadata": {},
          "execution_count": 32
        }
      ]
    },
    {
      "cell_type": "markdown",
      "metadata": {
        "id": "paXOXwatp0Lj"
      },
      "source": [
        "## Построение графика с помощью Sympy\n",
        "\n",
        "Наконец, `Sympy` можно использовать для построения графиков функций. Обратите внимание, что здесь используется другая библиотека Python под названием [matplotlib](http://matplotlib.org/). Хотя `Sympy` позволяет  не использовать `matplotlib`` напрямую, порой, требуется пользоваться данной библиотекой для более детального построения.\n",
        "\n",
        "Прежде чем рисовать графики в `Jupyter`, требуется запустить команду, чтобы он отображал графики прямо в блокноте:"
      ]
    },
    {
      "cell_type": "code",
      "execution_count": 33,
      "metadata": {
        "id": "K_54wckvp0Lj"
      },
      "outputs": [],
      "source": [
        "%matplotlib inline"
      ]
    },
    {
      "cell_type": "markdown",
      "metadata": {
        "id": "RCUBmv02p0Lk"
      },
      "source": [
        "Let us plot $x^2$:"
      ]
    },
    {
      "cell_type": "code",
      "execution_count": 34,
      "metadata": {
        "tags": [
          "nbval-ignore-output"
        ],
        "id": "HU-OSTclp0Lk",
        "colab": {
          "base_uri": "https://localhost:8080/",
          "height": 484
        },
        "outputId": "6ff8b857-69e4-41f5-8304-ba075bd29bfe"
      },
      "outputs": [
        {
          "output_type": "display_data",
          "data": {
            "text/plain": [
              "<Figure size 640x480 with 1 Axes>"
            ],
            "image/png": "[encoded data removed]"
          },
          "metadata": {}
        }
      ],
      "source": [
        "expr = x ** 2\n",
        "p = sym.plot(expr);"
      ]
    },
    {
      "cell_type": "markdown",
      "metadata": {
        "id": "yRYOZDOmp0Lk"
      },
      "source": [
        "Можно напрямую сохранить этот график в файл:"
      ]
    },
    {
      "cell_type": "code",
      "execution_count": 35,
      "metadata": {
        "tags": [
          "nbval-ignore-output"
        ],
        "id": "GOCiqe6Jp0Lk",
        "colab": {
          "base_uri": "https://localhost:8080/",
          "height": 433
        },
        "outputId": "36dc9d4a-ebc8-470f-e118-ab443ca8dba5"
      },
      "outputs": [
        {
          "output_type": "display_data",
          "data": {
            "text/plain": [
              "<Figure size 640x480 with 1 Axes>"
            ],
            "image/png": "[encoded data removed]"
          },
          "metadata": {}
        }
      ],
      "source": [
        "p.save(\"x_squared.pdf\");"
      ]
    },
    {
      "cell_type": "markdown",
      "metadata": {
        "id": "zzVDrsAOp0Lk"
      },
      "source": [
        "---\n",
        "**УПРАЖНЕНИЕ 6** Постройте графики следующих функций:\n",
        "\n",
        "- $y=x + cos(x)$\n",
        "- $y=x ^ 2 - e^x$ (вам может пригодиться `ylim` в качестве аргумента)\n",
        "\n",
        "Поэкспериментируйте с сохранением графиков в файл.."
      ]
    },
    {
      "cell_type": "code",
      "source": [
        "expr = x + sym.cos(x)\n",
        "p = sym.plot(expr);"
      ],
      "metadata": {
        "colab": {
          "base_uri": "https://localhost:8080/",
          "height": 486
        },
        "id": "-3LWPrLZ5qlH",
        "outputId": "d07083e1-fea0-412e-b5d1-f64e4b0857d7"
      },
      "execution_count": 36,
      "outputs": [
        {
          "output_type": "display_data",
          "data": {
            "text/plain": [
              "<Figure size 640x480 with 1 Axes>"
            ],
            "image/png": "[encoded data removed]"
          },
          "metadata": {}
        }
      ]
    },
    {
      "cell_type": "code",
      "source": [
        "p.save(\"x_squared.pdf\");"
      ],
      "metadata": {
        "colab": {
          "base_uri": "https://localhost:8080/",
          "height": 409
        },
        "id": "MBldsaBq5yRN",
        "outputId": "560e172c-1251-42f2-fc6e-e1a2e8d7a3d1"
      },
      "execution_count": 37,
      "outputs": [
        {
          "output_type": "display_data",
          "data": {
            "text/plain": [
              "<Figure size 640x480 with 1 Axes>"
            ],
            "image/png": "[encoded data removed]"
          },
          "metadata": {}
        }
      ]
    },
    {
      "cell_type": "code",
      "source": [
        "expr = x**2 - sym.exp(x)\n",
        "p = sym.plot(expr);"
      ],
      "metadata": {
        "colab": {
          "base_uri": "https://localhost:8080/",
          "height": 487
        },
        "id": "X47LbLzY514E",
        "outputId": "620ba987-f6bd-4de0-bc25-af0a39f83b3c"
      },
      "execution_count": 38,
      "outputs": [
        {
          "output_type": "display_data",
          "data": {
            "text/plain": [
              "<Figure size 640x480 with 1 Axes>"
            ],
            "image/png": "[encoded data removed]"
          },
          "metadata": {}
        }
      ]
    }
  ]
}