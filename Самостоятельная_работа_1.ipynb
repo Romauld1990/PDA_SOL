{
  "nbformat": 4,
  "nbformat_minor": 0,
  "metadata": {
    "colab": {
      "provenance": [],
      "authorship_tag": "ABX9TyM73PNLeFTRETgWj1Q3lE/r",
      "include_colab_link": true
    },
    "kernelspec": {
      "name": "python3",
      "display_name": "Python 3"
    },
    "language_info": {
      "name": "python"
    }
  },
  "cells": [
    {
      "cell_type": "markdown",
      "metadata": {
        "id": "view-in-github",
        "colab_type": "text"
      },
      "source": [
        "<a href=\"https://colab.research.google.com/github/Romauld1990/PDA_SOL/blob/main/%D0%A1%D0%B0%D0%BC%D0%BE%D1%81%D1%82%D0%BE%D1%8F%D1%82%D0%B5%D0%BB%D1%8C%D0%BD%D0%B0%D1%8F_%D1%80%D0%B0%D0%B1%D0%BE%D1%82%D0%B0_1.ipynb\" target=\"_parent\"><img src=\"https://colab.research.google.com/assets/colab-badge.svg\" alt=\"Open In Colab\"/></a>"
      ]
    },
    {
      "cell_type": "markdown",
      "source": [
        "[1] Написать цикл для выведения на экран каждой буквы своего ФИО"
      ],
      "metadata": {
        "id": "PfyiZ1TED3Zp"
      }
    },
    {
      "cell_type": "code",
      "source": [
        "for i in 'Шапошников Роман Алексеевич':\n",
        "  print (i)"
      ],
      "metadata": {
        "colab": {
          "base_uri": "https://localhost:8080/"
        },
        "id": "wYnAQNd9EUWY",
        "outputId": "f679078c-127f-4022-b450-e0e69f3749f6"
      },
      "execution_count": null,
      "outputs": [
        {
          "output_type": "stream",
          "name": "stdout",
          "text": [
            "Ш\n",
            "а\n",
            "п\n",
            "о\n",
            "ш\n",
            "н\n",
            "и\n",
            "к\n",
            "о\n",
            "в\n",
            " \n",
            "Р\n",
            "о\n",
            "м\n",
            "а\n",
            "н\n",
            " \n",
            "А\n",
            "л\n",
            "е\n",
            "к\n",
            "с\n",
            "е\n",
            "е\n",
            "в\n",
            "и\n",
            "ч\n"
          ]
        }
      ]
    },
    {
      "cell_type": "markdown",
      "source": [
        "[2] Написать функцию для перевода рубля в йену с округлением до 2х знаков после запятой"
      ],
      "metadata": {
        "id": "EO-kUy2sx4Gj"
      }
    },
    {
      "cell_type": "code",
      "source": [
        "def RUB_to_JPY(SumRub): #перевод рублей в йены\n",
        "  Rate=1.55 #курс валюты\n",
        "  SumYen= SumRub * Rate\n",
        "  return round (SumYen,2)\n",
        "\n",
        "RUB_to_JPY (133.123151515) #Сумма в рублях для перевода"
      ],
      "metadata": {
        "colab": {
          "base_uri": "https://localhost:8080/"
        },
        "id": "pOAKLy9FynMj",
        "outputId": "f3f71b1f-47a6-476d-b2fd-cc4686e8a8b8"
      },
      "execution_count": null,
      "outputs": [
        {
          "output_type": "execute_result",
          "data": {
            "text/plain": [
              "206.34"
            ]
          },
          "metadata": {},
          "execution_count": 4
        }
      ]
    }
  ]
}